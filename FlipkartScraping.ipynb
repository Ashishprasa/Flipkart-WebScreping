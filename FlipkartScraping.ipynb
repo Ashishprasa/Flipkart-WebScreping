{
  "nbformat": 4,
  "nbformat_minor": 0,
  "metadata": {
    "colab": {
      "provenance": []
    },
    "kernelspec": {
      "name": "python3",
      "display_name": "Python 3"
    },
    "language_info": {
      "name": "python"
    }
  },
  "cells": [
    {
      "cell_type": "code",
      "execution_count": 4,
      "metadata": {
        "id": "fYzSMyp0M-qq"
      },
      "outputs": [],
      "source": [
        "import pandas as pd\n",
        "import numpy as np\n",
        "from bs4 import BeautifulSoup\n",
        "import requests"
      ]
    },
    {
      "cell_type": "code",
      "source": [
        "# url=[]\n",
        "# for i in range(1,3):\n",
        "#   url.append(f'https://www.flipkart.com/search?q=keyboard+skin&sid=6bo%2Cai3&as=on&as-show=on&otracker=AS_QueryStore_HistoryAutoSuggest_6_0_na_na_na&otracker1=AS_QueryStore_HistoryAutoSuggest_6_0_na_na_na&as-pos=6&as-type=HISTORY&suggestionId=keyboard+skin|Laptop+Accessories&requestId=aa75ee24-a7c4-4783-a4cb-a0d7f95c0823&page={i}')"
      ],
      "metadata": {
        "id": "LDMngKB9NCCg"
      },
      "execution_count": 5,
      "outputs": []
    },
    {
      "cell_type": "code",
      "source": [
        "# url"
      ],
      "metadata": {
        "id": "4iBgIFj6zSu8"
      },
      "execution_count": 6,
      "outputs": []
    },
    {
      "cell_type": "code",
      "source": [
        "# def sc():\n",
        "#   reviews=[]\n",
        "#   names=[]\n",
        "#   prices=[]\n",
        "#   url=f\"https://www.flipkart.com/search?q=keyboard+skin&sid=6bo%2Cai3&as=on&as-show=on&otracker=AS_QueryStore_HistoryAutoSuggest_6_0_na_na_na&otracker1=AS_QueryStore_HistoryAutoSuggest_6_0_na_na_na&as-pos=6&as-type=HISTORY&suggestionId=keyboard+skin|Laptop+Accessories&requestId=aa75ee24-a7c4-4783-a4cb-a0d7f95c0823&page=2\"\n",
        "#   headers = {'User-Agent': 'Mozilla/5.0 (Windows NT 10.0; Win64; x64; rv:109.0) Gecko/20100101 Firefox/117.0'}\n",
        "#   r= requests.get(url,headers=headers)\n",
        "#   soup = BeautifulSoup(r.text,\"lxml\")\n",
        "#   review=soup.find_all(\"span\", class_ =\"_2_R_DZ\")\n",
        "#   fi(review,reviews)\n",
        "#   name=soup.find_all(\"a\", class_ =\"s1Q9rs\")\n",
        "#   fi(name,names)\n",
        "#   price=soup.find_all(\"div\", class_ =\"_30jeq3\")\n",
        "#   fi(price,prices)"
      ],
      "metadata": {
        "id": "llH0yjrE0Oqd"
      },
      "execution_count": 7,
      "outputs": []
    },
    {
      "cell_type": "code",
      "source": [
        "# name, review, price =sc()"
      ],
      "metadata": {
        "id": "o8QGCp0R3QYI"
      },
      "execution_count": 8,
      "outputs": []
    },
    {
      "cell_type": "code",
      "source": [
        "# product_name=[]\n",
        "# for i in name:\n",
        "#   names= i.text\n",
        "#   product_name.append(names)\n",
        "# print(product_name)\n"
      ],
      "metadata": {
        "id": "NIxO6RRU8N1u"
      },
      "execution_count": 9,
      "outputs": []
    },
    {
      "cell_type": "code",
      "source": [
        "# url=f\"https://www.flipkart.com/search?q=keyboard+skin&sid=6bo%2Cai3&as=on&as-show=on&otracker=AS_QueryStore_HistoryAutoSuggest_6_0_na_na_na&otracker1=AS_QueryStore_HistoryAutoSuggest_6_0_na_na_na&as-pos=6&as-type=HISTORY&suggestionId=keyboard+skin|Laptop+Accessories&requestId=aa75ee24-a7c4-4783-a4cb-a0d7f95c0823&page=2\"\n",
        "# headers = {'User-Agent': 'Mozilla/5.0 (Windows NT 10.0; Win64; x64; rv:109.0) Gecko/20100101 Firefox/117.0'}\n",
        "# r= requests.get(url,headers=headers)\n",
        "# soup = BeautifulSoup(r.text,\"lxml\")\n",
        "# product=soup.find_all(\"div\", class_ =\"_4ddWXP\")\n"
      ],
      "metadata": {
        "id": "xDm64im-WgSA"
      },
      "execution_count": 10,
      "outputs": []
    },
    {
      "cell_type": "code",
      "source": [
        "# len(product)"
      ],
      "metadata": {
        "id": "MzhX23RYgN-T"
      },
      "execution_count": 11,
      "outputs": []
    },
    {
      "cell_type": "code",
      "source": [
        "# product[1].find('span',class_= \"_2_R_DZ\")"
      ],
      "metadata": {
        "id": "N1qx5KYIgcdg"
      },
      "execution_count": 12,
      "outputs": []
    },
    {
      "cell_type": "code",
      "source": [
        "# product[2]"
      ],
      "metadata": {
        "id": "f_EJywsSjlPO"
      },
      "execution_count": 13,
      "outputs": []
    },
    {
      "cell_type": "code",
      "source": [
        "# lo=[]\n",
        "# revi=[]\n",
        "# for i in product:\n",
        "#   allpr=i.find_all(\"span\",class_=\"_2_R_DZ\")\n",
        "#   if allpr == []:\n",
        "#     allpr=(BeautifulSoup('''<span class=\"_2_R_DZ\">(0)</span>''', 'html.parser'))\n",
        "#   for j in allpr:\n",
        "#     lo.append(j.text)\n",
        "#   # for j in lo:\n",
        "#   #   if j==[]:\n",
        "#   #     j.append(BeautifulSoup('''<span class=\"_2_R_DZ\">(0)</span>''', 'html.parser').text)\n",
        "# # for n in lo:\n",
        "# #   BeautifulSoup(n, 'html.parser').text"
      ],
      "metadata": {
        "id": "LWnGiyT2keZF"
      },
      "execution_count": 14,
      "outputs": []
    },
    {
      "cell_type": "code",
      "source": [
        "# lo"
      ],
      "metadata": {
        "id": "-LC1erX4NndO"
      },
      "execution_count": 15,
      "outputs": []
    },
    {
      "cell_type": "code",
      "source": [
        "# len(lo)"
      ],
      "metadata": {
        "id": "23Suq_XvNnV6"
      },
      "execution_count": 16,
      "outputs": []
    },
    {
      "cell_type": "code",
      "source": [
        "# # Suppose you have a list of elements\n",
        "# element_list = [\n",
        "#     \"<div>Element 1</div>\",\n",
        "#     \"<div>Element 2</div>\",\n",
        "#     \"<div>Element 3</div>\",\n",
        "# ]\n",
        "\n",
        "# # Join the elements into a single string\n",
        "# element_string = '\\n'.join(element_list)\n",
        "\n",
        "# # Create a BeautifulSoup object with a parent tag\n",
        "# soup = BeautifulSoup(element_string, 'html.parser')\n",
        "\n",
        "# # Extract the parent tag (which contains all the elements) as a ResultSet\n",
        "# result_set = soup.find_all('div')"
      ],
      "metadata": {
        "id": "iP2ljNzi9SBD"
      },
      "execution_count": 17,
      "outputs": []
    },
    {
      "cell_type": "code",
      "source": [
        "# lo[1]"
      ],
      "metadata": {
        "id": "wSZ3wUfTq2Pr"
      },
      "execution_count": 18,
      "outputs": []
    },
    {
      "cell_type": "code",
      "source": [
        "# def listToString(s):\n",
        "\n",
        "#     # initialize an empty string\n",
        "#     str1 = \" \"\n",
        "\n",
        "#     # return string\n",
        "#     return (str1.join(s))\n",
        "\n",
        "\n",
        "# # Driver code\n",
        "# print(listToString(lo))"
      ],
      "metadata": {
        "id": "FQj_kZYQqpcF"
      },
      "execution_count": 19,
      "outputs": []
    },
    {
      "cell_type": "code",
      "source": [
        "# lo[1]"
      ],
      "metadata": {
        "id": "_mMWqH68mW0T"
      },
      "execution_count": 20,
      "outputs": []
    },
    {
      "cell_type": "code",
      "source": [
        "# lo=[]\n",
        "# revi=[]\n",
        "# for i in product:\n",
        "#   allpr=i.find_all(\"span\",class_=\"_2_R_DZ\")\n",
        "#   if allpr == []:\n",
        "#     allpr=(BeautifulSoup('''<span class=\"_2_R_DZ\">(0)</span>''', 'html.parser'))\n",
        "#   for j in allpr:\n",
        "#     lo.append(j.text)"
      ],
      "metadata": {
        "id": "D5D9zKySUv6X"
      },
      "execution_count": 21,
      "outputs": []
    },
    {
      "cell_type": "code",
      "source": [
        "# revi=[]\n",
        "# for i in product:\n",
        "#   allpr=i.find_all(\"span\",class_=\"_2_R_DZ\")\n",
        "#   if allpr == []:\n",
        "#     allpr=(BeautifulSoup('''<span class=\"_2_R_DZ\">(0)</span>''', 'html.parser'))\n",
        "#   for j in allpr:\n",
        "#     revi.append(j.text)"
      ],
      "metadata": {
        "id": "FALyR9C4cZhh"
      },
      "execution_count": 22,
      "outputs": []
    },
    {
      "cell_type": "code",
      "source": [
        "# len(revi)"
      ],
      "metadata": {
        "id": "ZQLM-UKKfysR"
      },
      "execution_count": 23,
      "outputs": []
    },
    {
      "cell_type": "code",
      "source": [
        "# na=[]\n",
        "# for i in product:\n",
        "#   name=i.find_all(\"a\",class_=\"s1Q9rs\")\n",
        "#   if name == []:\n",
        "#     name=(BeautifulSoup('''<a class=\"s1Q9rs\" href=\"/saco-chiclet-keyboard-skin-dell-inspiron-15-3558-15-6-inch-core-i3-5005u-4gb-1tb-windows-10-integrated-graphics-black-pre-loaded-ms-office-2016-home-student/p/itmeqsgbgjts5faf?pid=KSNEQSGBF2GMKPJW&amp;lid=LSTKSNEQSGBF2GMKPJWHEB1J9&amp;marketplace=FLIPKART&amp;q=keyboard+skin&amp;store=6bo%2Fai3&amp;srno=s_2_80&amp;otracker=AS_QueryStore_HistoryAutoSuggest_6_0_na_na_na&amp;otracker1=AS_QueryStore_HistoryAutoSuggest_6_0_na_na_na&amp;fm=organic&amp;iid=3ac5f04d-4490-45a6-94f3-d1faa8e0b696.KSNEQSGBF2GMKPJW.SEARCH&amp;ppt=None&amp;ppn=None&amp;ssid=ja9qssvceo0000001693752624380&amp;qH=e75f17a89f161240\" rel=\"noopener noreferrer\" target=\"_blank\" title=\"Saco Chiclet Keyboard Skin for Dell Inspiron 15 3558 15.6-inch (Core i3-5005U/4GB/1TB/Windows 10/Integrated Graphics), Black With Pre-Loaded MS Office 2016 Home &amp; Student edition Keyboard Skin\">No Name</a>''', 'html.parser'))\n",
        "#   for j in name:\n",
        "#     na.append(j.text)"
      ],
      "metadata": {
        "id": "Gx4PJfgfda62"
      },
      "execution_count": 24,
      "outputs": []
    },
    {
      "cell_type": "code",
      "source": [
        "# na"
      ],
      "metadata": {
        "id": "jRHyZoEodsLE"
      },
      "execution_count": 25,
      "outputs": []
    },
    {
      "cell_type": "code",
      "source": [
        "# pri=[]\n",
        "# for i in product:\n",
        "#   money=i.find_all(\"div\",class_=\"_30jeq3\")\n",
        "#   if allpr == []:\n",
        "#     money=(BeautifulSoup('''<div class=\"_30jeq3\">Free</div>''', 'html.parser'))\n",
        "#   for j in money:\n",
        "#     pri.append(j.text)"
      ],
      "metadata": {
        "id": "PQqEfrxXdv6i"
      },
      "execution_count": 26,
      "outputs": []
    },
    {
      "cell_type": "code",
      "source": [
        "# len(pri)"
      ],
      "metadata": {
        "id": "XxUdaUNNf8cE"
      },
      "execution_count": 27,
      "outputs": []
    },
    {
      "cell_type": "code",
      "source": [
        "# li=[]\n",
        "# for i in product:\n",
        "#   c=i.find_all(\"a\",class_=\"s1Q9rs\")\n",
        "#   for j in c:\n",
        "#     li.append(\"https://www.flipkart.com\" + j.get('href'))"
      ],
      "metadata": {
        "id": "rdIg0vwdd9Ma"
      },
      "execution_count": 28,
      "outputs": []
    },
    {
      "cell_type": "code",
      "source": [
        "# len(li)"
      ],
      "metadata": {
        "id": "i0enynW-ee6U"
      },
      "execution_count": 29,
      "outputs": []
    },
    {
      "cell_type": "code",
      "source": [
        "# dic={\"name\":na,\"price\":pri,\"link\":li,\"review\":revi}"
      ],
      "metadata": {
        "id": "o3R6ovm3eiKV"
      },
      "execution_count": 30,
      "outputs": []
    },
    {
      "cell_type": "code",
      "source": [
        "# df=pd.DataFrame(dic)"
      ],
      "metadata": {
        "id": "JrGvYyHrfhyw"
      },
      "execution_count": 31,
      "outputs": []
    },
    {
      "cell_type": "code",
      "source": [
        "# df['link'][1]"
      ],
      "metadata": {
        "id": "L95JSKLRXf_M"
      },
      "execution_count": 32,
      "outputs": []
    },
    {
      "cell_type": "code",
      "source": [
        "# df"
      ],
      "metadata": {
        "id": "uQAoZ34SXs6r"
      },
      "execution_count": 33,
      "outputs": []
    },
    {
      "cell_type": "code",
      "source": [
        "# print(product[0]find(\"span\", class_ =\"_2_R_DZ\"))\n",
        "# print(product[0].find(\"a\", class_ =\"s1Q9rs\"))\n",
        "# print(product[0].find(\"a\", class_ =\"s1Q9rs\").get('href'))\n",
        "# print(product[0].find(\"div\", class_ =\"_30jeq3\"))"
      ],
      "metadata": {
        "id": "AVWMGc8zW0X0"
      },
      "execution_count": 34,
      "outputs": []
    },
    {
      "cell_type": "code",
      "source": [
        "reviews=[]\n",
        "names=[]\n",
        "prices=[]\n",
        "links=[]\n",
        "for a in range(1,31):\n",
        "  url=f\"https://www.flipkart.com/search?q=keyboard+skin&sid=6bo%2Cai3&as=on&as-show=on&otracker=AS_QueryStore_HistoryAutoSuggest_6_0_na_na_na&otracker1=AS_QueryStore_HistoryAutoSuggest_6_0_na_na_na&as-pos=6&as-type=HISTORY&suggestionId=keyboard+skin|Laptop+Accessories&requestId=aa75ee24-a7c4-4783-a4cb-a0d7f95c0823&page={a}\"\n",
        "  headers = {'User-Agent': 'Mozilla/5.0 (Windows NT 10.0; Win64; x64; rv:109.0) Gecko/20100101 Firefox/117.0'}\n",
        "  r= requests.get(url,headers=headers)\n",
        "  soup = BeautifulSoup(r.text,\"lxml\")\n",
        "  products=soup.find_all(\"div\", class_ =\"_4ddWXP\")\n",
        "\n",
        "\n",
        "  for i in products:\n",
        "    allpr=i.find_all(\"span\",class_=\"_2_R_DZ\")\n",
        "    if allpr == []:\n",
        "      allpr=(BeautifulSoup('''<span class=\"_2_R_DZ\">(0)</span>''', 'html.parser'))\n",
        "    for j in allpr:\n",
        "      reviews.append(j.text)\n",
        "\n",
        "\n",
        "  for l in products:\n",
        "    name=l.find_all(\"a\",class_=\"s1Q9rs\")\n",
        "    if name == []:\n",
        "      name=(BeautifulSoup('''<a class=\"s1Q9rs\" href=\"/saco-chiclet-keyboard-skin-dell-inspiron-15-3558-15-6-inch-core-i3-5005u-4gb-1tb-windows-10-integrated-graphics-black-pre-loaded-ms-office-2016-home-student/p/itmeqsgbgjts5faf?pid=KSNEQSGBF2GMKPJW&amp;lid=LSTKSNEQSGBF2GMKPJWHEB1J9&amp;marketplace=FLIPKART&amp;q=keyboard+skin&amp;store=6bo%2Fai3&amp;srno=s_2_80&amp;otracker=AS_QueryStore_HistoryAutoSuggest_6_0_na_na_na&amp;otracker1=AS_QueryStore_HistoryAutoSuggest_6_0_na_na_na&amp;fm=organic&amp;iid=3ac5f04d-4490-45a6-94f3-d1faa8e0b696.KSNEQSGBF2GMKPJW.SEARCH&amp;ppt=None&amp;ppn=None&amp;ssid=ja9qssvceo0000001693752624380&amp;qH=e75f17a89f161240\" rel=\"noopener noreferrer\" target=\"_blank\" title=\"Saco Chiclet Keyboard Skin for Dell Inspiron 15 3558 15.6-inch (Core i3-5005U/4GB/1TB/Windows 10/Integrated Graphics), Black With Pre-Loaded MS Office 2016 Home &amp; Student edition Keyboard Skin\">No Name</a>''', 'html.parser'))\n",
        "    for k in name:\n",
        "      names.append(k.get('title'))\n",
        "\n",
        "\n",
        "  for m in products:\n",
        "    money=m.find_all(\"div\",class_=\"_30jeq3\")\n",
        "    if money == []:\n",
        "      money=(BeautifulSoup('''<div class=\"_30jeq3\">Free</div>''', 'html.parser'))\n",
        "    for p in money:\n",
        "      prices.append(p.text)\n",
        "\n",
        "\n",
        "  for o in products:\n",
        "    c=o.find_all(\"a\",class_=\"s1Q9rs\")\n",
        "    for q in c:\n",
        "      links.append(\"https://www.flipkart.com\" + q.get('href'))"
      ],
      "metadata": {
        "id": "tT1S9Dde9sP9"
      },
      "execution_count": 35,
      "outputs": []
    },
    {
      "cell_type": "code",
      "source": [
        "# from bs4 import BeautifulSoup\n",
        "\n",
        "# # Example HTML content\n",
        "# html_content = '<a href=\"https://example.com\" title=\"Example Website\">Visit Example</a>'\n",
        "\n",
        "# # Parse the HTML using BeautifulSoup\n",
        "# soup = BeautifulSoup(html_content, 'html.parser')\n",
        "\n",
        "# # Find the anchor tag\n",
        "# anchor_tag = soup.find('a')\n",
        "\n",
        "# # Extract the title attribute\n",
        "# title = anchor_tag.get('title')\n",
        "\n",
        "# # Print the title\n",
        "# print(title)"
      ],
      "metadata": {
        "id": "IujcGUZkkMI0"
      },
      "execution_count": 36,
      "outputs": []
    },
    {
      "cell_type": "code",
      "source": [
        "# def fi(name,name2):\n",
        "#   for i in name:\n",
        "#     name2.append(i.text)"
      ],
      "metadata": {
        "id": "dVGzW7KK-IK0"
      },
      "execution_count": 37,
      "outputs": []
    },
    {
      "cell_type": "code",
      "source": [
        "# links=[]\n",
        "# for i in range(1,40):\n",
        "#   url=f\"https://www.flipkart.com/search?q=keyboard+skin&sid=6bo%2Cai3&as=on&as-show=on&otracker=AS_QueryStore_HistoryAutoSuggest_6_0_na_na_na&otracker1=AS_QueryStore_HistoryAutoSuggest_6_0_na_na_na&as-pos=6&as-type=HISTORY&suggestionId=keyboard+skin|Laptop+Accessories&requestId=aa75ee24-a7c4-4783-a4cb-a0d7f95c0823&page={i}\"\n",
        "#   headers = {'User-Agent': 'Mozilla/5.0 (Windows NT 10.0; Win64; x64; rv:109.0) Gecko/20100101 Firefox/117.0'}\n",
        "#   r= requests.get(url,headers=headers)\n",
        "#   soup = BeautifulSoup(r.text,\"lxml\")\n",
        "#   link=soup.find_all(\"a\", class_ =\"s1Q9rs\")\n",
        "#   for i in link:\n",
        "#     links.append(\"https://www.flipkart.com\"+i.get('href'))\n",
        "\n"
      ],
      "metadata": {
        "id": "4pW1fexpHP6N"
      },
      "execution_count": 38,
      "outputs": []
    },
    {
      "cell_type": "code",
      "source": [
        "# len(links)"
      ],
      "metadata": {
        "id": "SnoUXb_HIgo6"
      },
      "execution_count": 39,
      "outputs": []
    },
    {
      "cell_type": "code",
      "source": [
        "# reviews"
      ],
      "metadata": {
        "id": "A0OCv5EGSBGt"
      },
      "execution_count": 40,
      "outputs": []
    },
    {
      "cell_type": "code",
      "source": [
        "# for link in soup.find_all('a',\n",
        "#                           attrs={'href': r.compile(\"^https://\")}):\n",
        "#     # display the actual urls\n",
        "#     print(link.get('href'))"
      ],
      "metadata": {
        "id": "-u4GJQKsGn58"
      },
      "execution_count": 41,
      "outputs": []
    },
    {
      "cell_type": "code",
      "source": [
        "# reviews=[]\n",
        "# names=[]\n",
        "# prices=[]\n",
        "# for i in range(1,40):\n",
        "#   url=f\"https://www.flipkart.com/search?q=keyboard+skin&sid=6bo%2Cai3&as=on&as-show=on&otracker=AS_QueryStore_HistoryAutoSuggest_6_0_na_na_na&otracker1=AS_QueryStore_HistoryAutoSuggest_6_0_na_na_na&as-pos=6&as-type=HISTORY&suggestionId=keyboard+skin|Laptop+Accessories&requestId=aa75ee24-a7c4-4783-a4cb-a0d7f95c0823&page={i}\"\n",
        "#   headers = {'User-Agent': 'Mozilla/5.0 (Windows NT 10.0; Win64; x64; rv:109.0) Gecko/20100101 Firefox/117.0'}\n",
        "#   r= requests.get(url,headers=headers)\n",
        "#   soup = BeautifulSoup(r.text,\"lxml\")\n",
        "#   review=soup.find_all(\"span\", class_ =\"_2_R_DZ\")\n",
        "#   fi(review,reviews)\n",
        "#   name=soup.find_all(\"a\", class_ =\"s1Q9rs\")\n",
        "#   fi(name,names)\n",
        "#   # name.link.get('href')\n",
        "#   price=soup.find_all(\"div\", class_ =\"_30jeq3\")\n",
        "#   fi(price,prices)"
      ],
      "metadata": {
        "id": "5n4dfz7YYBBt"
      },
      "execution_count": 42,
      "outputs": []
    },
    {
      "cell_type": "code",
      "source": [
        "df=pd.DataFrame(list(zip(reviews,names,prices,links)), columns =['review','name','price','link'])"
      ],
      "metadata": {
        "id": "QcGheClND7Ae"
      },
      "execution_count": 43,
      "outputs": []
    },
    {
      "cell_type": "code",
      "source": [
        "# df"
      ],
      "metadata": {
        "id": "G88EF8THo64q"
      },
      "execution_count": 44,
      "outputs": []
    },
    {
      "cell_type": "code",
      "source": [
        "# df['name'][1]"
      ],
      "metadata": {
        "id": "c2LT2Ub6JrVq"
      },
      "execution_count": 45,
      "outputs": []
    },
    {
      "cell_type": "code",
      "source": [
        "df['review']=df['review'].str.replace('(', '').str.replace(')', '').str.replace(',', '').astype(int)"
      ],
      "metadata": {
        "colab": {
          "base_uri": "https://localhost:8080/"
        },
        "id": "w5wPjYBAJ8nk",
        "outputId": "d8811610-a355-41ba-b6cd-cac5eff1daad"
      },
      "execution_count": 46,
      "outputs": [
        {
          "output_type": "stream",
          "name": "stderr",
          "text": [
            "<ipython-input-46-147849b6d656>:1: FutureWarning: The default value of regex will change from True to False in a future version. In addition, single character regular expressions will *not* be treated as literal strings when regex=True.\n",
            "  df['review']=df['review'].str.replace('(', '').str.replace(')', '').str.replace(',', '').astype(int)\n"
          ]
        }
      ]
    },
    {
      "cell_type": "code",
      "source": [
        "df['price']=df['price'].str.replace('₹','').str.replace(',', '').astype(int)"
      ],
      "metadata": {
        "id": "2KDWBBASK5lP"
      },
      "execution_count": 47,
      "outputs": []
    },
    {
      "cell_type": "code",
      "source": [
        "# df[df['review']==7171][\"link\"]"
      ],
      "metadata": {
        "id": "WlMw6RDeNKyy"
      },
      "execution_count": 48,
      "outputs": []
    },
    {
      "cell_type": "code",
      "source": [
        "df['name']=df['name'].str.lower()"
      ],
      "metadata": {
        "id": "5DLZpZ8nNgWh"
      },
      "execution_count": 49,
      "outputs": []
    },
    {
      "cell_type": "code",
      "source": [
        "# df"
      ],
      "metadata": {
        "id": "uCrddGhYj1O7"
      },
      "execution_count": 50,
      "outputs": []
    },
    {
      "cell_type": "code",
      "source": [
        "# (df[df['review']>=(df['review'].max()) & (df[\"price\"]>200)]).head()"
      ],
      "metadata": {
        "id": "zrXIIg7lO_HC"
      },
      "execution_count": 51,
      "outputs": []
    },
    {
      "cell_type": "code",
      "source": [
        "# df[df['review']>=df['review'].max()]df['name'] in \"cover\""
      ],
      "metadata": {
        "id": "JZsfW176UJ0K"
      },
      "execution_count": 52,
      "outputs": []
    },
    {
      "cell_type": "code",
      "source": [
        "ks=df[df['name'].str.contains('cover', regex=True) | (df['name'].str.contains('skin', regex=True)) ]"
      ],
      "metadata": {
        "id": "QYstLM-3VBp2"
      },
      "execution_count": 53,
      "outputs": []
    },
    {
      "cell_type": "code",
      "source": [
        "# ks['link']"
      ],
      "metadata": {
        "id": "CjFlnCXnsV5I"
      },
      "execution_count": 54,
      "outputs": []
    },
    {
      "cell_type": "code",
      "source": [
        "# for i in range(0,616):\n",
        "# pe=df[~df['name'].str.contains('cover')]\n",
        "ks=ks.reset_index()"
      ],
      "metadata": {
        "id": "StuPvVYxhnzu"
      },
      "execution_count": 55,
      "outputs": []
    },
    {
      "cell_type": "code",
      "source": [
        "# pe=pe.drop(columns=[\"index\"])\n",
        "ks=ks.drop(columns=[\"index\"])"
      ],
      "metadata": {
        "id": "InokmN-omnk7"
      },
      "execution_count": 56,
      "outputs": []
    },
    {
      "cell_type": "code",
      "source": [
        "# for i in range(0,822):\n",
        "#   print(ks['link'][i])"
      ],
      "metadata": {
        "id": "yGwdarJBp9cf"
      },
      "execution_count": 57,
      "outputs": []
    },
    {
      "cell_type": "code",
      "source": [
        "skin_data=ks"
      ],
      "metadata": {
        "id": "ZxnhxfhQqCOp"
      },
      "execution_count": 58,
      "outputs": []
    },
    {
      "cell_type": "code",
      "source": [
        "skin_data"
      ],
      "metadata": {
        "colab": {
          "base_uri": "https://localhost:8080/",
          "height": 424
        },
        "id": "hEjUCM9ntDpS",
        "outputId": "34e8251b-502b-4ea5-b072-1abd8afa47b4"
      },
      "execution_count": 59,
      "outputs": [
        {
          "output_type": "execute_result",
          "data": {
            "text/plain": [
              "     review                                               name  price  \\\n",
              "0         5  just take laptop keyboard cover & guard - 4569...    176   \n",
              "1        53  just take laptop keyboard cover & guard - 4563...    144   \n",
              "2      1121  just take laptop keyboard cover & guard all la...    146   \n",
              "3       107  saco keyboard protector 14 inch laptop dust co...    383   \n",
              "4         0  unixaa vinyl laptop skin sticker 4in1 combo wi...    299   \n",
              "..      ...                                                ...    ...   \n",
              "862       0     saco lenovo ideapad y570d laptop keyboard skin    383   \n",
              "863       0      saco lenovo ideapad z585 laptop keyboard skin    383   \n",
              "864       7                  saco iook 14 laptop keyboard skin    389   \n",
              "865       0      saco lenovo ideapad z585 laptop keyboard skin    383   \n",
              "866       0      saco lenovo ideapad b475 laptop keyboard skin    383   \n",
              "\n",
              "                                                  link  \n",
              "0    https://www.flipkart.com/just-take-laptop-keyb...  \n",
              "1    https://www.flipkart.com/just-take-laptop-keyb...  \n",
              "2    https://www.flipkart.com/just-take-laptop-keyb...  \n",
              "3    https://www.flipkart.com/saco-keyboard-protect...  \n",
              "4    https://www.flipkart.com/unixaa-vinyl-laptop-s...  \n",
              "..                                                 ...  \n",
              "862  https://www.flipkart.com/saco-lenovo-ideapad-y...  \n",
              "863  https://www.flipkart.com/saco-lenovo-ideapad-z...  \n",
              "864  https://www.flipkart.com/saco-iook-14-laptop-k...  \n",
              "865  https://www.flipkart.com/saco-lenovo-ideapad-z...  \n",
              "866  https://www.flipkart.com/saco-lenovo-ideapad-b...  \n",
              "\n",
              "[867 rows x 4 columns]"
            ],
            "text/html": [
              "\n",
              "  <div id=\"df-d91f820a-d6e7-42f1-9030-689e05bc2e64\" class=\"colab-df-container\">\n",
              "    <div>\n",
              "<style scoped>\n",
              "    .dataframe tbody tr th:only-of-type {\n",
              "        vertical-align: middle;\n",
              "    }\n",
              "\n",
              "    .dataframe tbody tr th {\n",
              "        vertical-align: top;\n",
              "    }\n",
              "\n",
              "    .dataframe thead th {\n",
              "        text-align: right;\n",
              "    }\n",
              "</style>\n",
              "<table border=\"1\" class=\"dataframe\">\n",
              "  <thead>\n",
              "    <tr style=\"text-align: right;\">\n",
              "      <th></th>\n",
              "      <th>review</th>\n",
              "      <th>name</th>\n",
              "      <th>price</th>\n",
              "      <th>link</th>\n",
              "    </tr>\n",
              "  </thead>\n",
              "  <tbody>\n",
              "    <tr>\n",
              "      <th>0</th>\n",
              "      <td>5</td>\n",
              "      <td>just take laptop keyboard cover &amp; guard - 4569...</td>\n",
              "      <td>176</td>\n",
              "      <td>https://www.flipkart.com/just-take-laptop-keyb...</td>\n",
              "    </tr>\n",
              "    <tr>\n",
              "      <th>1</th>\n",
              "      <td>53</td>\n",
              "      <td>just take laptop keyboard cover &amp; guard - 4563...</td>\n",
              "      <td>144</td>\n",
              "      <td>https://www.flipkart.com/just-take-laptop-keyb...</td>\n",
              "    </tr>\n",
              "    <tr>\n",
              "      <th>2</th>\n",
              "      <td>1121</td>\n",
              "      <td>just take laptop keyboard cover &amp; guard all la...</td>\n",
              "      <td>146</td>\n",
              "      <td>https://www.flipkart.com/just-take-laptop-keyb...</td>\n",
              "    </tr>\n",
              "    <tr>\n",
              "      <th>3</th>\n",
              "      <td>107</td>\n",
              "      <td>saco keyboard protector 14 inch laptop dust co...</td>\n",
              "      <td>383</td>\n",
              "      <td>https://www.flipkart.com/saco-keyboard-protect...</td>\n",
              "    </tr>\n",
              "    <tr>\n",
              "      <th>4</th>\n",
              "      <td>0</td>\n",
              "      <td>unixaa vinyl laptop skin sticker 4in1 combo wi...</td>\n",
              "      <td>299</td>\n",
              "      <td>https://www.flipkart.com/unixaa-vinyl-laptop-s...</td>\n",
              "    </tr>\n",
              "    <tr>\n",
              "      <th>...</th>\n",
              "      <td>...</td>\n",
              "      <td>...</td>\n",
              "      <td>...</td>\n",
              "      <td>...</td>\n",
              "    </tr>\n",
              "    <tr>\n",
              "      <th>862</th>\n",
              "      <td>0</td>\n",
              "      <td>saco lenovo ideapad y570d laptop keyboard skin</td>\n",
              "      <td>383</td>\n",
              "      <td>https://www.flipkart.com/saco-lenovo-ideapad-y...</td>\n",
              "    </tr>\n",
              "    <tr>\n",
              "      <th>863</th>\n",
              "      <td>0</td>\n",
              "      <td>saco lenovo ideapad z585 laptop keyboard skin</td>\n",
              "      <td>383</td>\n",
              "      <td>https://www.flipkart.com/saco-lenovo-ideapad-z...</td>\n",
              "    </tr>\n",
              "    <tr>\n",
              "      <th>864</th>\n",
              "      <td>7</td>\n",
              "      <td>saco iook 14 laptop keyboard skin</td>\n",
              "      <td>389</td>\n",
              "      <td>https://www.flipkart.com/saco-iook-14-laptop-k...</td>\n",
              "    </tr>\n",
              "    <tr>\n",
              "      <th>865</th>\n",
              "      <td>0</td>\n",
              "      <td>saco lenovo ideapad z585 laptop keyboard skin</td>\n",
              "      <td>383</td>\n",
              "      <td>https://www.flipkart.com/saco-lenovo-ideapad-z...</td>\n",
              "    </tr>\n",
              "    <tr>\n",
              "      <th>866</th>\n",
              "      <td>0</td>\n",
              "      <td>saco lenovo ideapad b475 laptop keyboard skin</td>\n",
              "      <td>383</td>\n",
              "      <td>https://www.flipkart.com/saco-lenovo-ideapad-b...</td>\n",
              "    </tr>\n",
              "  </tbody>\n",
              "</table>\n",
              "<p>867 rows × 4 columns</p>\n",
              "</div>\n",
              "    <div class=\"colab-df-buttons\">\n",
              "\n",
              "  <div class=\"colab-df-container\">\n",
              "    <button class=\"colab-df-convert\" onclick=\"convertToInteractive('df-d91f820a-d6e7-42f1-9030-689e05bc2e64')\"\n",
              "            title=\"Convert this dataframe to an interactive table.\"\n",
              "            style=\"display:none;\">\n",
              "\n",
              "  <svg xmlns=\"http://www.w3.org/2000/svg\" height=\"24px\" viewBox=\"0 -960 960 960\">\n",
              "    <path d=\"M120-120v-720h720v720H120Zm60-500h600v-160H180v160Zm220 220h160v-160H400v160Zm0 220h160v-160H400v160ZM180-400h160v-160H180v160Zm440 0h160v-160H620v160ZM180-180h160v-160H180v160Zm440 0h160v-160H620v160Z\"/>\n",
              "  </svg>\n",
              "    </button>\n",
              "\n",
              "  <style>\n",
              "    .colab-df-container {\n",
              "      display:flex;\n",
              "      gap: 12px;\n",
              "    }\n",
              "\n",
              "    .colab-df-convert {\n",
              "      background-color: #E8F0FE;\n",
              "      border: none;\n",
              "      border-radius: 50%;\n",
              "      cursor: pointer;\n",
              "      display: none;\n",
              "      fill: #1967D2;\n",
              "      height: 32px;\n",
              "      padding: 0 0 0 0;\n",
              "      width: 32px;\n",
              "    }\n",
              "\n",
              "    .colab-df-convert:hover {\n",
              "      background-color: #E2EBFA;\n",
              "      box-shadow: 0px 1px 2px rgba(60, 64, 67, 0.3), 0px 1px 3px 1px rgba(60, 64, 67, 0.15);\n",
              "      fill: #174EA6;\n",
              "    }\n",
              "\n",
              "    .colab-df-buttons div {\n",
              "      margin-bottom: 4px;\n",
              "    }\n",
              "\n",
              "    [theme=dark] .colab-df-convert {\n",
              "      background-color: #3B4455;\n",
              "      fill: #D2E3FC;\n",
              "    }\n",
              "\n",
              "    [theme=dark] .colab-df-convert:hover {\n",
              "      background-color: #434B5C;\n",
              "      box-shadow: 0px 1px 3px 1px rgba(0, 0, 0, 0.15);\n",
              "      filter: drop-shadow(0px 1px 2px rgba(0, 0, 0, 0.3));\n",
              "      fill: #FFFFFF;\n",
              "    }\n",
              "  </style>\n",
              "\n",
              "    <script>\n",
              "      const buttonEl =\n",
              "        document.querySelector('#df-d91f820a-d6e7-42f1-9030-689e05bc2e64 button.colab-df-convert');\n",
              "      buttonEl.style.display =\n",
              "        google.colab.kernel.accessAllowed ? 'block' : 'none';\n",
              "\n",
              "      async function convertToInteractive(key) {\n",
              "        const element = document.querySelector('#df-d91f820a-d6e7-42f1-9030-689e05bc2e64');\n",
              "        const dataTable =\n",
              "          await google.colab.kernel.invokeFunction('convertToInteractive',\n",
              "                                                    [key], {});\n",
              "        if (!dataTable) return;\n",
              "\n",
              "        const docLinkHtml = 'Like what you see? Visit the ' +\n",
              "          '<a target=\"_blank\" href=https://colab.research.google.com/notebooks/data_table.ipynb>data table notebook</a>'\n",
              "          + ' to learn more about interactive tables.';\n",
              "        element.innerHTML = '';\n",
              "        dataTable['output_type'] = 'display_data';\n",
              "        await google.colab.output.renderOutput(dataTable, element);\n",
              "        const docLink = document.createElement('div');\n",
              "        docLink.innerHTML = docLinkHtml;\n",
              "        element.appendChild(docLink);\n",
              "      }\n",
              "    </script>\n",
              "  </div>\n",
              "\n",
              "\n",
              "<div id=\"df-2bf0f03a-5319-46fd-a3bd-eec00cad2518\">\n",
              "  <button class=\"colab-df-quickchart\" onclick=\"quickchart('df-2bf0f03a-5319-46fd-a3bd-eec00cad2518')\"\n",
              "            title=\"Suggest charts.\"\n",
              "            style=\"display:none;\">\n",
              "\n",
              "<svg xmlns=\"http://www.w3.org/2000/svg\" height=\"24px\"viewBox=\"0 0 24 24\"\n",
              "     width=\"24px\">\n",
              "    <g>\n",
              "        <path d=\"M19 3H5c-1.1 0-2 .9-2 2v14c0 1.1.9 2 2 2h14c1.1 0 2-.9 2-2V5c0-1.1-.9-2-2-2zM9 17H7v-7h2v7zm4 0h-2V7h2v10zm4 0h-2v-4h2v4z\"/>\n",
              "    </g>\n",
              "</svg>\n",
              "  </button>\n",
              "\n",
              "<style>\n",
              "  .colab-df-quickchart {\n",
              "      --bg-color: #E8F0FE;\n",
              "      --fill-color: #1967D2;\n",
              "      --hover-bg-color: #E2EBFA;\n",
              "      --hover-fill-color: #174EA6;\n",
              "      --disabled-fill-color: #AAA;\n",
              "      --disabled-bg-color: #DDD;\n",
              "  }\n",
              "\n",
              "  [theme=dark] .colab-df-quickchart {\n",
              "      --bg-color: #3B4455;\n",
              "      --fill-color: #D2E3FC;\n",
              "      --hover-bg-color: #434B5C;\n",
              "      --hover-fill-color: #FFFFFF;\n",
              "      --disabled-bg-color: #3B4455;\n",
              "      --disabled-fill-color: #666;\n",
              "  }\n",
              "\n",
              "  .colab-df-quickchart {\n",
              "    background-color: var(--bg-color);\n",
              "    border: none;\n",
              "    border-radius: 50%;\n",
              "    cursor: pointer;\n",
              "    display: none;\n",
              "    fill: var(--fill-color);\n",
              "    height: 32px;\n",
              "    padding: 0;\n",
              "    width: 32px;\n",
              "  }\n",
              "\n",
              "  .colab-df-quickchart:hover {\n",
              "    background-color: var(--hover-bg-color);\n",
              "    box-shadow: 0 1px 2px rgba(60, 64, 67, 0.3), 0 1px 3px 1px rgba(60, 64, 67, 0.15);\n",
              "    fill: var(--button-hover-fill-color);\n",
              "  }\n",
              "\n",
              "  .colab-df-quickchart-complete:disabled,\n",
              "  .colab-df-quickchart-complete:disabled:hover {\n",
              "    background-color: var(--disabled-bg-color);\n",
              "    fill: var(--disabled-fill-color);\n",
              "    box-shadow: none;\n",
              "  }\n",
              "\n",
              "  .colab-df-spinner {\n",
              "    border: 2px solid var(--fill-color);\n",
              "    border-color: transparent;\n",
              "    border-bottom-color: var(--fill-color);\n",
              "    animation:\n",
              "      spin 1s steps(1) infinite;\n",
              "  }\n",
              "\n",
              "  @keyframes spin {\n",
              "    0% {\n",
              "      border-color: transparent;\n",
              "      border-bottom-color: var(--fill-color);\n",
              "      border-left-color: var(--fill-color);\n",
              "    }\n",
              "    20% {\n",
              "      border-color: transparent;\n",
              "      border-left-color: var(--fill-color);\n",
              "      border-top-color: var(--fill-color);\n",
              "    }\n",
              "    30% {\n",
              "      border-color: transparent;\n",
              "      border-left-color: var(--fill-color);\n",
              "      border-top-color: var(--fill-color);\n",
              "      border-right-color: var(--fill-color);\n",
              "    }\n",
              "    40% {\n",
              "      border-color: transparent;\n",
              "      border-right-color: var(--fill-color);\n",
              "      border-top-color: var(--fill-color);\n",
              "    }\n",
              "    60% {\n",
              "      border-color: transparent;\n",
              "      border-right-color: var(--fill-color);\n",
              "    }\n",
              "    80% {\n",
              "      border-color: transparent;\n",
              "      border-right-color: var(--fill-color);\n",
              "      border-bottom-color: var(--fill-color);\n",
              "    }\n",
              "    90% {\n",
              "      border-color: transparent;\n",
              "      border-bottom-color: var(--fill-color);\n",
              "    }\n",
              "  }\n",
              "</style>\n",
              "\n",
              "  <script>\n",
              "    async function quickchart(key) {\n",
              "      const quickchartButtonEl =\n",
              "        document.querySelector('#' + key + ' button');\n",
              "      quickchartButtonEl.disabled = true;  // To prevent multiple clicks.\n",
              "      quickchartButtonEl.classList.add('colab-df-spinner');\n",
              "      try {\n",
              "        const charts = await google.colab.kernel.invokeFunction(\n",
              "            'suggestCharts', [key], {});\n",
              "      } catch (error) {\n",
              "        console.error('Error during call to suggestCharts:', error);\n",
              "      }\n",
              "      quickchartButtonEl.classList.remove('colab-df-spinner');\n",
              "      quickchartButtonEl.classList.add('colab-df-quickchart-complete');\n",
              "    }\n",
              "    (() => {\n",
              "      let quickchartButtonEl =\n",
              "        document.querySelector('#df-2bf0f03a-5319-46fd-a3bd-eec00cad2518 button');\n",
              "      quickchartButtonEl.style.display =\n",
              "        google.colab.kernel.accessAllowed ? 'block' : 'none';\n",
              "    })();\n",
              "  </script>\n",
              "</div>\n",
              "    </div>\n",
              "  </div>\n"
            ]
          },
          "metadata": {},
          "execution_count": 59
        }
      ]
    }
  ]
}